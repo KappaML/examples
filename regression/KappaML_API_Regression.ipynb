{
 "cells": [
  {
   "cell_type": "markdown",
   "metadata": {},
   "source": [
    "KappaML API Regression Example\n",
    "\n",
    "This example demonstrates how to use the KappaML API to perform regression tasks.\n",
    "\n",
    "The KappaML API provides a RESTful API for interacting with the KappaML platform.\n",
    "\n",
    "Platform: https://kappaml.com\n",
    "API Documentation: https://api.kappaml.com/docs\n",
    "OpenAPI Schema: https://api.kappaml.com/openapi.json\n",
    "API Keys: https://app.kappaml.com/api-keys"
   ]
  },
  {
   "cell_type": "code",
   "execution_count": 2,
   "metadata": {},
   "outputs": [
    {
     "name": "stdout",
     "output_type": "stream",
     "text": [
      "Requirement already satisfied: river in /Users/aleximbrea/opt/anaconda3/envs/kappaml-core/lib/python3.12/site-packages (0.22.0)\n",
      "Requirement already satisfied: numpy>=1.23.0 in /Users/aleximbrea/opt/anaconda3/envs/kappaml-core/lib/python3.12/site-packages (from river) (1.26.4)\n",
      "Requirement already satisfied: pandas<3.0.0,>=2.2.3 in /Users/aleximbrea/opt/anaconda3/envs/kappaml-core/lib/python3.12/site-packages (from river) (2.2.3)\n",
      "Requirement already satisfied: scipy<2.0.0,>=1.14.1 in /Users/aleximbrea/opt/anaconda3/envs/kappaml-core/lib/python3.12/site-packages (from river) (1.14.1)\n",
      "Requirement already satisfied: python-dateutil>=2.8.2 in /Users/aleximbrea/opt/anaconda3/envs/kappaml-core/lib/python3.12/site-packages (from pandas<3.0.0,>=2.2.3->river) (2.9.0)\n",
      "Requirement already satisfied: pytz>=2020.1 in /Users/aleximbrea/opt/anaconda3/envs/kappaml-core/lib/python3.12/site-packages (from pandas<3.0.0,>=2.2.3->river) (2024.2)\n",
      "Requirement already satisfied: tzdata>=2022.7 in /Users/aleximbrea/opt/anaconda3/envs/kappaml-core/lib/python3.12/site-packages (from pandas<3.0.0,>=2.2.3->river) (2024.2)\n",
      "Requirement already satisfied: six>=1.5 in /Users/aleximbrea/opt/anaconda3/envs/kappaml-core/lib/python3.12/site-packages (from python-dateutil>=2.8.2->pandas<3.0.0,>=2.2.3->river) (1.16.0)\n",
      "Note: you may need to restart the kernel to use updated packages.\n",
      "Requirement already satisfied: requests in /Users/aleximbrea/opt/anaconda3/envs/kappaml-core/lib/python3.12/site-packages (2.31.0)\n",
      "Requirement already satisfied: charset-normalizer<4,>=2 in /Users/aleximbrea/opt/anaconda3/envs/kappaml-core/lib/python3.12/site-packages (from requests) (3.4.0)\n",
      "Requirement already satisfied: idna<4,>=2.5 in /Users/aleximbrea/opt/anaconda3/envs/kappaml-core/lib/python3.12/site-packages (from requests) (3.10)\n",
      "Requirement already satisfied: urllib3<3,>=1.21.1 in /Users/aleximbrea/opt/anaconda3/envs/kappaml-core/lib/python3.12/site-packages (from requests) (2.2.3)\n",
      "Requirement already satisfied: certifi>=2017.4.17 in /Users/aleximbrea/opt/anaconda3/envs/kappaml-core/lib/python3.12/site-packages (from requests) (2024.8.30)\n",
      "Note: you may need to restart the kernel to use updated packages.\n"
     ]
    }
   ],
   "source": [
    "%pip install river\n",
    "%pip install requests"
   ]
  },
  {
   "cell_type": "code",
   "execution_count": 3,
   "metadata": {},
   "outputs": [],
   "source": [
    "import requests\n",
    "import time\n",
    "from river.datasets import Restaurants\n",
    "from river import metrics\n",
    "import os\n",
    "from concurrent.futures import ThreadPoolExecutor, as_completed\n",
    "from datetime import datetime"
   ]
  },
  {
   "cell_type": "code",
   "execution_count": 4,
   "metadata": {},
   "outputs": [],
   "source": [
    "# Get API key from https://app.kappaml.com/api-keys and set it as an environment variable\n",
    "# export KAPPAML_API_KEY=\"your_api_key_here\"\n",
    "API_KEY = os.getenv(\"KAPPAML_API_KEY\")"
   ]
  },
  {
   "cell_type": "code",
   "execution_count": 5,
   "metadata": {},
   "outputs": [],
   "source": [
    "MODEL_ID = \"90f297a0-c4bc-4060-a080-b299840b3066\"\n",
    "BASE_URL = f\"https://api.kappaml.com/v1/models/{MODEL_ID}\""
   ]
  },
  {
   "cell_type": "code",
   "execution_count": 12,
   "metadata": {},
   "outputs": [
    {
     "name": "stdout",
     "output_type": "stream",
     "text": [
      "{'store_id': 'air_04341b588bde96cd', 'date': datetime.datetime(2016, 1, 1, 0, 0), 'is_holiday': True, 'genre_name': 'Izakaya', 'area_name': 'Tōkyō-to Nerima-ku Toyotamakita', 'latitude': 35.7356234, 'longitude': 139.6516577} 10\n",
      "{'store_id': 'air_05c325d315cc17f5', 'date': datetime.datetime(2016, 1, 1, 0, 0), 'is_holiday': True, 'genre_name': 'Izakaya', 'area_name': 'Fukuoka-ken Fukuoka-shi Daimyō', 'latitude': 33.589215700000004, 'longitude': 130.3928134} 29\n",
      "{'store_id': 'air_08ba8cd01b3ba010', 'date': datetime.datetime(2016, 1, 1, 0, 0), 'is_holiday': True, 'genre_name': 'Izakaya', 'area_name': 'Miyagi-ken Sendai-shi Kamisugi', 'latitude': 38.2690761, 'longitude': 140.87040290000002} 11\n",
      "{'store_id': 'air_09a845d5b5944b01', 'date': datetime.datetime(2016, 1, 1, 0, 0), 'is_holiday': True, 'genre_name': 'Izakaya', 'area_name': 'Fukuoka-ken Kurume-shi Jōnanmachi', 'latitude': 33.3192865, 'longitude': 130.5083735} 56\n",
      "{'store_id': 'air_1f7f8fa557bc0d55', 'date': datetime.datetime(2016, 1, 1, 0, 0), 'is_holiday': True, 'genre_name': 'Bar/Cocktail', 'area_name': 'Ōsaka-fu Neyagawa-shi Honmachi', 'latitude': 34.766092900000004, 'longitude': 135.6280998} 6\n",
      "{'store_id': 'air_2570ccb93badde68', 'date': datetime.datetime(2016, 1, 1, 0, 0), 'is_holiday': True, 'genre_name': 'Izakaya', 'area_name': 'Tōkyō-to Shinjuku-ku Kabukichō', 'latitude': 35.6938401, 'longitude': 139.70354939999999} 43\n",
      "{'store_id': 'air_25d8e5cc57dd87d9', 'date': datetime.datetime(2016, 1, 1, 0, 0), 'is_holiday': True, 'genre_name': 'Western food', 'area_name': 'Tōkyō-to Shibuya-ku Shibuya', 'latitude': 35.6617773, 'longitude': 139.70405060000002} 1\n",
      "{'store_id': 'air_298513175efdf261', 'date': datetime.datetime(2016, 1, 1, 0, 0), 'is_holiday': True, 'genre_name': 'Cafe/Sweets', 'area_name': 'Fukuoka-ken Fukuoka-shi Torikai', 'latitude': 33.575686299999994, 'longitude': 130.36997639999998} 12\n",
      "{'store_id': 'air_35c4732dcbfe31be', 'date': datetime.datetime(2016, 1, 1, 0, 0), 'is_holiday': True, 'genre_name': 'Dining bar', 'area_name': 'Hyōgo-ken Kōbe-shi Kumoidōri', 'latitude': 34.6951242, 'longitude': 135.19785249999998} 16\n",
      "{'store_id': 'air_36bcf77d3382d36e', 'date': datetime.datetime(2016, 1, 1, 0, 0), 'is_holiday': True, 'genre_name': 'Bar/Cocktail', 'area_name': 'Tōkyō-to Chiyoda-ku Kudanminami', 'latitude': 35.6940027, 'longitude': 139.75359509999998} 34\n"
     ]
    },
    {
     "ename": "AttributeError",
     "evalue": "'Restaurants' object has no attribute 'describe'",
     "output_type": "error",
     "traceback": [
      "\u001b[0;31m---------------------------------------------------------------------------\u001b[0m",
      "\u001b[0;31mAttributeError\u001b[0m                            Traceback (most recent call last)",
      "Cell \u001b[0;32mIn[12], line 10\u001b[0m\n\u001b[1;32m      7\u001b[0m     \u001b[38;5;28mprint\u001b[39m(x, y)\n\u001b[1;32m      9\u001b[0m \u001b[38;5;66;03m# Print the dataset description\u001b[39;00m\n\u001b[0;32m---> 10\u001b[0m \u001b[38;5;28mprint\u001b[39m(\u001b[43mrestaurants\u001b[49m\u001b[38;5;241;43m.\u001b[39;49m\u001b[43mdescribe\u001b[49m())\n",
      "\u001b[0;31mAttributeError\u001b[0m: 'Restaurants' object has no attribute 'describe'"
     ]
    }
   ],
   "source": [
    "restaurants = Restaurants()\n",
    "\n",
    "# Print first 10 rows of the dataset\n",
    "for x, y in restaurants.take(10):\n",
    "    print(x, y)\n",
    "\n",
    "\n"
   ]
  }
 ],
 "metadata": {
  "kernelspec": {
   "display_name": "kappaml-core",
   "language": "python",
   "name": "python3"
  },
  "language_info": {
   "codemirror_mode": {
    "name": "ipython",
    "version": 3
   },
   "file_extension": ".py",
   "mimetype": "text/x-python",
   "name": "python",
   "nbconvert_exporter": "python",
   "pygments_lexer": "ipython3",
   "version": "3.12.7"
  }
 },
 "nbformat": 4,
 "nbformat_minor": 2
}
