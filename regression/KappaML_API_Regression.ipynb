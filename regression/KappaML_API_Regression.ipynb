{
 "cells": [
  {
   "cell_type": "markdown",
   "metadata": {},
   "source": [
    "KappaML API Regression Example\n",
    "\n",
    "This example demonstrates how to use the KappaML API to perform regression tasks.\n",
    "\n",
    "The KappaML API provides a RESTful API for interacting with the KappaML platform.\n",
    "\n",
    "Platform: https://kappaml.com\n",
    "API Documentation: https://api.kappaml.com/docs\n",
    "OpenAPI Schema: https://api.kappaml.com/openapi.json\n",
    "API Keys: https://app.kappaml.com/api-keys"
   ]
  },
  {
   "cell_type": "code",
   "execution_count": 1,
   "metadata": {},
   "outputs": [
    {
     "name": "stdout",
     "output_type": "stream",
     "text": [
      "Requirement already satisfied: river in /Users/aleximbrea/opt/anaconda3/envs/kappaml-core/lib/python3.12/site-packages (0.22.0)\n",
      "Requirement already satisfied: numpy>=1.23.0 in /Users/aleximbrea/opt/anaconda3/envs/kappaml-core/lib/python3.12/site-packages (from river) (1.26.4)\n",
      "Requirement already satisfied: pandas<3.0.0,>=2.2.3 in /Users/aleximbrea/opt/anaconda3/envs/kappaml-core/lib/python3.12/site-packages (from river) (2.2.3)\n",
      "Requirement already satisfied: scipy<2.0.0,>=1.14.1 in /Users/aleximbrea/opt/anaconda3/envs/kappaml-core/lib/python3.12/site-packages (from river) (1.14.1)\n",
      "Requirement already satisfied: python-dateutil>=2.8.2 in /Users/aleximbrea/opt/anaconda3/envs/kappaml-core/lib/python3.12/site-packages (from pandas<3.0.0,>=2.2.3->river) (2.9.0)\n",
      "Requirement already satisfied: pytz>=2020.1 in /Users/aleximbrea/opt/anaconda3/envs/kappaml-core/lib/python3.12/site-packages (from pandas<3.0.0,>=2.2.3->river) (2024.2)\n",
      "Requirement already satisfied: tzdata>=2022.7 in /Users/aleximbrea/opt/anaconda3/envs/kappaml-core/lib/python3.12/site-packages (from pandas<3.0.0,>=2.2.3->river) (2024.2)\n",
      "Requirement already satisfied: six>=1.5 in /Users/aleximbrea/opt/anaconda3/envs/kappaml-core/lib/python3.12/site-packages (from python-dateutil>=2.8.2->pandas<3.0.0,>=2.2.3->river) (1.16.0)\n",
      "\n",
      "\u001b[1m[\u001b[0m\u001b[34;49mnotice\u001b[0m\u001b[1;39;49m]\u001b[0m\u001b[39;49m A new release of pip is available: \u001b[0m\u001b[31;49m25.0.1\u001b[0m\u001b[39;49m -> \u001b[0m\u001b[32;49m25.1\u001b[0m\n",
      "\u001b[1m[\u001b[0m\u001b[34;49mnotice\u001b[0m\u001b[1;39;49m]\u001b[0m\u001b[39;49m To update, run: \u001b[0m\u001b[32;49mpip install --upgrade pip\u001b[0m\n",
      "Note: you may need to restart the kernel to use updated packages.\n",
      "Requirement already satisfied: requests in /Users/aleximbrea/opt/anaconda3/envs/kappaml-core/lib/python3.12/site-packages (2.31.0)\n",
      "Requirement already satisfied: charset-normalizer<4,>=2 in /Users/aleximbrea/opt/anaconda3/envs/kappaml-core/lib/python3.12/site-packages (from requests) (3.4.0)\n",
      "Requirement already satisfied: idna<4,>=2.5 in /Users/aleximbrea/opt/anaconda3/envs/kappaml-core/lib/python3.12/site-packages (from requests) (3.10)\n",
      "Requirement already satisfied: urllib3<3,>=1.21.1 in /Users/aleximbrea/opt/anaconda3/envs/kappaml-core/lib/python3.12/site-packages (from requests) (2.2.3)\n",
      "Requirement already satisfied: certifi>=2017.4.17 in /Users/aleximbrea/opt/anaconda3/envs/kappaml-core/lib/python3.12/site-packages (from requests) (2024.8.30)\n",
      "\n",
      "\u001b[1m[\u001b[0m\u001b[34;49mnotice\u001b[0m\u001b[1;39;49m]\u001b[0m\u001b[39;49m A new release of pip is available: \u001b[0m\u001b[31;49m25.0.1\u001b[0m\u001b[39;49m -> \u001b[0m\u001b[32;49m25.1\u001b[0m\n",
      "\u001b[1m[\u001b[0m\u001b[34;49mnotice\u001b[0m\u001b[1;39;49m]\u001b[0m\u001b[39;49m To update, run: \u001b[0m\u001b[32;49mpip install --upgrade pip\u001b[0m\n",
      "Note: you may need to restart the kernel to use updated packages.\n"
     ]
    }
   ],
   "source": [
    "%pip install river\n",
    "%pip install requests"
   ]
  },
  {
   "cell_type": "code",
   "execution_count": 2,
   "metadata": {},
   "outputs": [],
   "source": [
    "import requests\n",
    "import time\n",
    "from river.datasets import Restaurants\n",
    "from river import metrics\n",
    "import os\n",
    "from concurrent.futures import ThreadPoolExecutor, as_completed\n",
    "from datetime import datetime"
   ]
  },
  {
   "cell_type": "code",
   "execution_count": null,
   "metadata": {},
   "outputs": [],
   "source": [
    "# Get API key from https://app.kappaml.com/api-keys and set it as an environment variable\n",
    "# export KAPPAML_API_KEY=\"your_api_key_here\"\n",
    "API_KEY = os.getenv(\"KAPPAML_API_KEY\")"
   ]
  },
  {
   "cell_type": "code",
   "execution_count": null,
   "metadata": {},
   "outputs": [],
   "source": [
    "MODEL_ID = \"90f297a0-c4bc-4060-a080-b299840b3066\"\n",
    "BASE_URL = f\"https://api.kappaml.com/v1/models/{MODEL_ID}\""
   ]
  },
  {
   "cell_type": "code",
   "execution_count": null,
   "metadata": {},
   "outputs": [],
   "source": []
  }
 ],
 "metadata": {
  "kernelspec": {
   "display_name": "kappaml-core",
   "language": "python",
   "name": "python3"
  },
  "language_info": {
   "codemirror_mode": {
    "name": "ipython",
    "version": 3
   },
   "file_extension": ".py",
   "mimetype": "text/x-python",
   "name": "python",
   "nbconvert_exporter": "python",
   "pygments_lexer": "ipython3",
   "version": "3.12.7"
  }
 },
 "nbformat": 4,
 "nbformat_minor": 2
}
