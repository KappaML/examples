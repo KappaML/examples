{
 "cells": [
  {
   "cell_type": "markdown",
   "metadata": {},
   "source": [
    "KappaML API Regression Example\n",
    "\n",
    "This example demonstrates how to use the KappaML API to perform regression tasks.\n",
    "\n",
    "The KappaML API provides a RESTful API for interacting with the KappaML platform.\n",
    "\n",
    "Platform: https://kappaml.com\n",
    "API Documentation: https://api.kappaml.com/docs\n",
    "OpenAPI Schema: https://api.kappaml.com/openapi.json\n",
    "API Keys: https://app.kappaml.com/api-keys"
   ]
  },
  {
   "cell_type": "code",
   "execution_count": null,
   "metadata": {
    "vscode": {
     "languageId": "plaintext"
    }
   },
   "outputs": [],
   "source": [
    "%pip install river\n",
    "%pip install requests"
   ]
  },
  {
   "cell_type": "code",
   "execution_count": null,
   "metadata": {
    "vscode": {
     "languageId": "plaintext"
    }
   },
   "outputs": [],
   "source": [
    "import requests\n",
    "import time\n",
    "from river.datasets import Restaurants\n",
    "from river import metrics\n",
    "import os\n",
    "from concurrent.futures import ThreadPoolExecutor, as_completed\n",
    "from datetime import datetime"
   ]
  },
  {
   "cell_type": "code",
   "execution_count": null,
   "metadata": {
    "vscode": {
     "languageId": "plaintext"
    }
   },
   "outputs": [],
   "source": [
    "# Get API key from https://app.kappaml.com/api-keys and set it as an environment variable\n",
    "# export KAPPAML_API_KEY=\"your_api_key_here\"\n",
    "API_KEY = os.getenv(\"KAPPAML_API_KEY\")"
   ]
  },
  {
   "cell_type": "code",
   "execution_count": null,
   "metadata": {
    "vscode": {
     "languageId": "plaintext"
    }
   },
   "outputs": [],
   "source": [
    "MODEL_ID = \"90f297a0-c4bc-4060-a080-b299840b3066\"\n",
    "BASE_URL = f\"https://api.kappaml.com/v1/models/{MODEL_ID}\""
   ]
  },
  {
   "cell_type": "code",
   "execution_count": null,
   "metadata": {
    "vscode": {
     "languageId": "plaintext"
    }
   },
   "outputs": [],
   "source": []
  }
 ],
 "metadata": {
  "language_info": {
   "name": "python"
  }
 },
 "nbformat": 4,
 "nbformat_minor": 2
}
